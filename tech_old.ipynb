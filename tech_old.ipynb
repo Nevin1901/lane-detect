{
 "cells": [
  {
   "cell_type": "code",
   "execution_count": 76,
   "metadata": {},
   "outputs": [],
   "source": [
    "import numpy as np\n",
    "import cv2 as cv\n",
    "from OpenGL.GL import *\n",
    "from OpenGL.GLU import * \n",
    "from OpenGL.GLUT import *\n",
    "import matplotlib.pyplot as plt\n",
    "from beamngpy import BeamNGpy, Scenario, Vehicle\n",
    "from beamngpy.sensors import Camera, Lidar"
   ]
  },
  {
   "cell_type": "code",
   "execution_count": 63,
   "metadata": {},
   "outputs": [
    {
     "data": {
      "text/plain": [
       "<beamngpy.beamng.BeamNGpy at 0x290a3a2efb0>"
      ]
     },
     "execution_count": 63,
     "metadata": {},
     "output_type": "execute_result"
    }
   ],
   "source": [
    "client = BeamNGpy(\"localhost\", 64256, home=\"D:\\Downloads\\BeamNG tech v0 24 0 2\\BeamNG.drive-0.24.0.2.13392\")\n",
    "client.open()"
   ]
  },
  {
   "cell_type": "code",
   "execution_count": 64,
   "metadata": {},
   "outputs": [],
   "source": [
    "scenario = Scenario(\"west_coast_usa\", \"road_map_example\")\n",
    "orig = (568.908386, 13.4217358,  148.56546)\n",
    "\n",
    "vehicle = Vehicle(\"ego_vehicle\", model=\"etk800\", license=\"PYTHON\")\n",
    "scenario.add_vehicle(vehicle, pos=orig)\n",
    "scenario.make(client)"
   ]
  },
  {
   "cell_type": "code",
   "execution_count": 65,
   "metadata": {},
   "outputs": [],
   "source": [
    "client.load_scenario(scenario)\n",
    "client.start_scenario()"
   ]
  },
  {
   "cell_type": "code",
   "execution_count": 78,
   "metadata": {},
   "outputs": [
    {
     "ename": "ConnectionAbortedError",
     "evalue": "[WinError 10053] An established connection was aborted by the software in your host machine",
     "output_type": "error",
     "traceback": [
      "\u001b[1;31m---------------------------------------------------------------------------\u001b[0m",
      "\u001b[1;31mConnectionAbortedError\u001b[0m                    Traceback (most recent call last)",
      "\u001b[1;32mc:\\Users\\Nevin\\Desktop\\lane-detection\\tech_old.ipynb Cell 5'\u001b[0m in \u001b[0;36m<cell line: 8>\u001b[1;34m()\u001b[0m\n\u001b[0;32m      <a href='vscode-notebook-cell:/c%3A/Users/Nevin/Desktop/lane-detection/tech_old.ipynb#ch0000010?line=5'>6</a>\u001b[0m lidar \u001b[39m=\u001b[39m Lidar()\n\u001b[0;32m      <a href='vscode-notebook-cell:/c%3A/Users/Nevin/Desktop/lane-detection/tech_old.ipynb#ch0000010?line=6'>7</a>\u001b[0m vehicle\u001b[39m.\u001b[39mattach_sensor(\u001b[39m\"\u001b[39m\u001b[39mlidar\u001b[39m\u001b[39m\"\u001b[39m, lidar)\n\u001b[1;32m----> <a href='vscode-notebook-cell:/c%3A/Users/Nevin/Desktop/lane-detection/tech_old.ipynb#ch0000010?line=7'>8</a>\u001b[0m vehicle\u001b[39m.\u001b[39;49mpoll_sensors()\n",
      "File \u001b[1;32m~\\AppData\\Local\\Programs\\Python\\Python310\\lib\\site-packages\\beamngpy\\vehicle.py:357\u001b[0m, in \u001b[0;36mVehicle.poll_sensors\u001b[1;34m(self, requests)\u001b[0m\n\u001b[0;32m    <a href='file:///c%3A/Users/Nevin/AppData/Local/Programs/Python/Python310/lib/site-packages/beamngpy/vehicle.py?line=353'>354</a>\u001b[0m     sensor_data\u001b[39m.\u001b[39mupdate(response[\u001b[39m'\u001b[39m\u001b[39mdata\u001b[39m\u001b[39m'\u001b[39m])\n\u001b[0;32m    <a href='file:///c%3A/Users/Nevin/AppData/Local/Programs/Python/Python310/lib/site-packages/beamngpy/vehicle.py?line=355'>356</a>\u001b[0m \u001b[39mif\u001b[39;00m vehicle_reqs[\u001b[39m'\u001b[39m\u001b[39msensors\u001b[39m\u001b[39m'\u001b[39m]:\n\u001b[1;32m--> <a href='file:///c%3A/Users/Nevin/AppData/Local/Programs/Python/Python310/lib/site-packages/beamngpy/vehicle.py?line=356'>357</a>\u001b[0m     \u001b[39mself\u001b[39;49m\u001b[39m.\u001b[39;49msend(vehicle_reqs)\n\u001b[0;32m    <a href='file:///c%3A/Users/Nevin/AppData/Local/Programs/Python/Python310/lib/site-packages/beamngpy/vehicle.py?line=357'>358</a>\u001b[0m     response \u001b[39m=\u001b[39m \u001b[39mself\u001b[39m\u001b[39m.\u001b[39mrecv()\n\u001b[0;32m    <a href='file:///c%3A/Users/Nevin/AppData/Local/Programs/Python/Python310/lib/site-packages/beamngpy/vehicle.py?line=358'>359</a>\u001b[0m     \u001b[39massert\u001b[39;00m response[\u001b[39m'\u001b[39m\u001b[39mtype\u001b[39m\u001b[39m'\u001b[39m] \u001b[39m==\u001b[39m \u001b[39m'\u001b[39m\u001b[39mSensorData\u001b[39m\u001b[39m'\u001b[39m\n",
      "File \u001b[1;32m~\\AppData\\Local\\Programs\\Python\\Python310\\lib\\site-packages\\beamngpy\\vehicle.py:149\u001b[0m, in \u001b[0;36mVehicle.send\u001b[1;34m(self, data)\u001b[0m\n\u001b[0;32m    <a href='file:///c%3A/Users/Nevin/AppData/Local/Programs/Python/Python310/lib/site-packages/beamngpy/vehicle.py?line=143'>144</a>\u001b[0m \u001b[39mdef\u001b[39;00m \u001b[39msend\u001b[39m(\u001b[39mself\u001b[39m, data):\n\u001b[0;32m    <a href='file:///c%3A/Users/Nevin/AppData/Local/Programs/Python/Python310/lib/site-packages/beamngpy/vehicle.py?line=144'>145</a>\u001b[0m     \u001b[39m\"\"\"\u001b[39;00m\n\u001b[0;32m    <a href='file:///c%3A/Users/Nevin/AppData/Local/Programs/Python/Python310/lib/site-packages/beamngpy/vehicle.py?line=145'>146</a>\u001b[0m \u001b[39m    Sends the given data as a message to the corresponding vehicle's\u001b[39;00m\n\u001b[0;32m    <a href='file:///c%3A/Users/Nevin/AppData/Local/Programs/Python/Python310/lib/site-packages/beamngpy/vehicle.py?line=146'>147</a>\u001b[0m \u001b[39m    socket.\u001b[39;00m\n\u001b[0;32m    <a href='file:///c%3A/Users/Nevin/AppData/Local/Programs/Python/Python310/lib/site-packages/beamngpy/vehicle.py?line=147'>148</a>\u001b[0m \u001b[39m    \"\"\"\u001b[39;00m\n\u001b[1;32m--> <a href='file:///c%3A/Users/Nevin/AppData/Local/Programs/Python/Python310/lib/site-packages/beamngpy/vehicle.py?line=148'>149</a>\u001b[0m     \u001b[39mreturn\u001b[39;00m send_msg(\u001b[39mself\u001b[39;49m\u001b[39m.\u001b[39;49mskt, data)\n",
      "File \u001b[1;32m~\\AppData\\Local\\Programs\\Python\\Python310\\lib\\site-packages\\beamngpy\\beamngcommon.py:238\u001b[0m, in \u001b[0;36msend_msg\u001b[1;34m(skt, data)\u001b[0m\n\u001b[0;32m    <a href='file:///c%3A/Users/Nevin/AppData/Local/Programs/Python/Python310/lib/site-packages/beamngpy/beamngcommon.py?line=235'>236</a>\u001b[0m data \u001b[39m=\u001b[39m msgpack\u001b[39m.\u001b[39mpackb(data, use_bin_type\u001b[39m=\u001b[39m\u001b[39mTrue\u001b[39;00m)\n\u001b[0;32m    <a href='file:///c%3A/Users/Nevin/AppData/Local/Programs/Python/Python310/lib/site-packages/beamngpy/beamngcommon.py?line=236'>237</a>\u001b[0m length \u001b[39m=\u001b[39m \u001b[39m'\u001b[39m\u001b[39m{:016}\u001b[39;00m\u001b[39m'\u001b[39m\u001b[39m.\u001b[39mformat(\u001b[39mlen\u001b[39m(data))\n\u001b[1;32m--> <a href='file:///c%3A/Users/Nevin/AppData/Local/Programs/Python/Python310/lib/site-packages/beamngpy/beamngcommon.py?line=237'>238</a>\u001b[0m skt\u001b[39m.\u001b[39;49msend(\u001b[39mbytes\u001b[39;49m(length, \u001b[39m'\u001b[39;49m\u001b[39mascii\u001b[39;49m\u001b[39m'\u001b[39;49m))\n\u001b[0;32m    <a href='file:///c%3A/Users/Nevin/AppData/Local/Programs/Python/Python310/lib/site-packages/beamngpy/beamngcommon.py?line=238'>239</a>\u001b[0m \u001b[39mfor\u001b[39;00m i \u001b[39min\u001b[39;00m \u001b[39mrange\u001b[39m(\u001b[39m0\u001b[39m, \u001b[39mlen\u001b[39m(data), BUF_SIZE):\n\u001b[0;32m    <a href='file:///c%3A/Users/Nevin/AppData/Local/Programs/Python/Python310/lib/site-packages/beamngpy/beamngcommon.py?line=239'>240</a>\u001b[0m     skt\u001b[39m.\u001b[39msend(data[i:i \u001b[39m+\u001b[39m BUF_SIZE])\n",
      "\u001b[1;31mConnectionAbortedError\u001b[0m: [WinError 10053] An established connection was aborted by the software in your host machine"
     ]
    }
   ],
   "source": [
    "if \"camera\" in vehicle.sensors:\n",
    "    vehicle.detach_sensor(\"camera\")\n",
    "if \"lidar\" in vehicle.sensors:\n",
    "    vehicle.detach_sensor(\"lidar\")\n",
    "\n",
    "lidar = Lidar()\n",
    "vehicle.attach_sensor(\"lidar\", lidar)\n",
    "vehicle.poll_sensors()"
   ]
  },
  {
   "cell_type": "code",
   "execution_count": 75,
   "metadata": {},
   "outputs": [
    {
     "ename": "PermissionError",
     "evalue": "[WinError 5] Access is denied",
     "output_type": "error",
     "traceback": [
      "\u001b[1;31m---------------------------------------------------------------------------\u001b[0m",
      "\u001b[1;31mPermissionError\u001b[0m                           Traceback (most recent call last)",
      "\u001b[1;32mc:\\Users\\Nevin\\Desktop\\lane-detection\\tech_old.ipynb Cell 6'\u001b[0m in \u001b[0;36m<cell line: 5>\u001b[1;34m()\u001b[0m\n\u001b[0;32m      <a href='vscode-notebook-cell:/c%3A/Users/Nevin/Desktop/lane-detection/tech_old.ipynb#ch0000004?line=0'>1</a>\u001b[0m \u001b[39m# print(vehicle.sensors)\u001b[39;00m\n\u001b[0;32m      <a href='vscode-notebook-cell:/c%3A/Users/Nevin/Desktop/lane-detection/tech_old.ipynb#ch0000004?line=1'>2</a>\u001b[0m \u001b[39m# camera = Camera(pos=center, direction=(1, 0, 0), fov=90, resolution=(256, 256))\u001b[39;00m\n\u001b[0;32m      <a href='vscode-notebook-cell:/c%3A/Users/Nevin/Desktop/lane-detection/tech_old.ipynb#ch0000004?line=2'>3</a>\u001b[0m \u001b[39m# camera = Camera((0, -10, 5), (0, 1, -0.75), 60, (1024, 1024))\u001b[39;00m\n\u001b[0;32m      <a href='vscode-notebook-cell:/c%3A/Users/Nevin/Desktop/lane-detection/tech_old.ipynb#ch0000004?line=3'>4</a>\u001b[0m camera \u001b[39m=\u001b[39m Camera(pos\u001b[39m=\u001b[39m(\u001b[39m0\u001b[39m, \u001b[39m5\u001b[39m, \u001b[39m5\u001b[39m), direction\u001b[39m=\u001b[39m(\u001b[39m0\u001b[39m, \u001b[39m1\u001b[39m, \u001b[39m1\u001b[39m), fov\u001b[39m=\u001b[39m\u001b[39m60\u001b[39m, resolution\u001b[39m=\u001b[39m(\u001b[39m512\u001b[39m, \u001b[39m512\u001b[39m))\n\u001b[1;32m----> <a href='vscode-notebook-cell:/c%3A/Users/Nevin/Desktop/lane-detection/tech_old.ipynb#ch0000004?line=4'>5</a>\u001b[0m vehicle\u001b[39m.\u001b[39;49mattach_sensor(\u001b[39m\"\u001b[39;49m\u001b[39mcamera\u001b[39;49m\u001b[39m\"\u001b[39;49m, camera)\n",
      "File \u001b[1;32m~\\AppData\\Local\\Programs\\Python\\Python310\\lib\\site-packages\\beamngpy\\vehicle.py:235\u001b[0m, in \u001b[0;36mVehicle.attach_sensor\u001b[1;34m(self, name, sensor)\u001b[0m\n\u001b[0;32m    <a href='file:///c%3A/Users/Nevin/AppData/Local/Programs/Python/Python310/lib/site-packages/beamngpy/vehicle.py?line=231'>232</a>\u001b[0m     \u001b[39mraise\u001b[39;00m BNGValueError(\u001b[39m'\u001b[39m\u001b[39mOne vehicle cannot have multiple sensors\u001b[39m\u001b[39m'\u001b[39m\n\u001b[0;32m    <a href='file:///c%3A/Users/Nevin/AppData/Local/Programs/Python/Python310/lib/site-packages/beamngpy/vehicle.py?line=232'>233</a>\u001b[0m                         \u001b[39mf\u001b[39m\u001b[39m'\u001b[39m\u001b[39mwith the same name: \u001b[39m\u001b[39m\"\u001b[39m\u001b[39m{\u001b[39;00mname\u001b[39m}\u001b[39;00m\u001b[39m\"\u001b[39m\u001b[39m'\u001b[39m)\n\u001b[0;32m    <a href='file:///c%3A/Users/Nevin/AppData/Local/Programs/Python/Python310/lib/site-packages/beamngpy/vehicle.py?line=233'>234</a>\u001b[0m \u001b[39mself\u001b[39m\u001b[39m.\u001b[39msensors[name] \u001b[39m=\u001b[39m sensor\n\u001b[1;32m--> <a href='file:///c%3A/Users/Nevin/AppData/Local/Programs/Python/Python310/lib/site-packages/beamngpy/vehicle.py?line=234'>235</a>\u001b[0m sensor\u001b[39m.\u001b[39;49mattach(\u001b[39mself\u001b[39;49m, name)\n",
      "File \u001b[1;32m~\\AppData\\Local\\Programs\\Python\\Python310\\lib\\site-packages\\beamngpy\\sensors.py:531\u001b[0m, in \u001b[0;36mCamera.attach\u001b[1;34m(self, vehicle, name)\u001b[0m\n\u001b[0;32m    <a href='file:///c%3A/Users/Nevin/AppData/Local/Programs/Python/Python310/lib/site-packages/beamngpy/sensors.py?line=528'>529</a>\u001b[0m \u001b[39mself\u001b[39m\u001b[39m.\u001b[39mcolour_handle \u001b[39m=\u001b[39m \u001b[39m'\u001b[39m\u001b[39m{}\u001b[39;00m\u001b[39m.\u001b[39m\u001b[39m{}\u001b[39;00m\u001b[39m.\u001b[39m\u001b[39m{}\u001b[39;00m\u001b[39m.colour\u001b[39m\u001b[39m'\u001b[39m\n\u001b[0;32m    <a href='file:///c%3A/Users/Nevin/AppData/Local/Programs/Python/Python310/lib/site-packages/beamngpy/sensors.py?line=529'>530</a>\u001b[0m \u001b[39mself\u001b[39m\u001b[39m.\u001b[39mcolour_handle \u001b[39m=\u001b[39m \u001b[39mself\u001b[39m\u001b[39m.\u001b[39mcolour_handle\u001b[39m.\u001b[39mformat(pid, prefix, name)\n\u001b[1;32m--> <a href='file:///c%3A/Users/Nevin/AppData/Local/Programs/Python/Python310/lib/site-packages/beamngpy/sensors.py?line=530'>531</a>\u001b[0m \u001b[39mself\u001b[39m\u001b[39m.\u001b[39mcolour_shmem \u001b[39m=\u001b[39m mmap\u001b[39m.\u001b[39;49mmmap(\u001b[39m0\u001b[39;49m, size, \u001b[39mself\u001b[39;49m\u001b[39m.\u001b[39;49mcolour_handle)\n\u001b[0;32m    <a href='file:///c%3A/Users/Nevin/AppData/Local/Programs/Python/Python310/lib/site-packages/beamngpy/sensors.py?line=531'>532</a>\u001b[0m \u001b[39mself\u001b[39m\u001b[39m.\u001b[39mlogger\u001b[39m.\u001b[39mdebug(\u001b[39m'\u001b[39m\u001b[39mBound shmem for colour: \u001b[39m\u001b[39m{self.colour_handle}\u001b[39;00m\u001b[39m'\u001b[39m)\n\u001b[0;32m    <a href='file:///c%3A/Users/Nevin/AppData/Local/Programs/Python/Python310/lib/site-packages/beamngpy/sensors.py?line=533'>534</a>\u001b[0m \u001b[39mself\u001b[39m\u001b[39m.\u001b[39mdepth_handle \u001b[39m=\u001b[39m \u001b[39m'\u001b[39m\u001b[39m{}\u001b[39;00m\u001b[39m.\u001b[39m\u001b[39m{}\u001b[39;00m\u001b[39m.\u001b[39m\u001b[39m{}\u001b[39;00m\u001b[39m.depth\u001b[39m\u001b[39m'\u001b[39m\n",
      "\u001b[1;31mPermissionError\u001b[0m: [WinError 5] Access is denied"
     ]
    }
   ],
   "source": [
    "# print(vehicle.sensors)\n",
    "# camera = Camera(pos=center, direction=(1, 0, 0), fov=90, resolution=(256, 256))\n",
    "# camera = Camera((0, -10, 5), (0, 1, -0.75), 60, (1024, 1024))\n",
    "camera = Camera(pos=(0, 5, 5), direction=(0, 1, 1), fov=60, resolution=(512, 512))\n",
    "vehicle.attach_sensor(\"camera\", camera)"
   ]
  },
  {
   "cell_type": "code",
   "execution_count": 55,
   "metadata": {},
   "outputs": [
    {
     "data": {
      "text/plain": [
       "<matplotlib.image.AxesImage at 0x290a3943fd0>"
      ]
     },
     "execution_count": 55,
     "metadata": {},
     "output_type": "execute_result"
    },
    {
     "data": {
      "image/png": "[encoded data removed]",
      "text/plain": [
       "<Figure size 432x288 with 1 Axes>"
      ]
     },
     "metadata": {
      "needs_background": "light"
     },
     "output_type": "display_data"
    }
   ],
   "source": [
    "image = client.poll_sensors(vehicle)[\"camera\"][\"colour\"]\n",
    "plt.imshow(image)"
   ]
  }
 ],
 "metadata": {
  "interpreter": {
   "hash": "b12f533e09654497cb70edb86fc4bad2e36162d90f468e1f741228eb8f0d79cb"
  },
  "kernelspec": {
   "display_name": "Python 3.10.0 64-bit",
   "language": "python",
   "name": "python3"
  },
  "language_info": {
   "codemirror_mode": {
    "name": "ipython",
    "version": 3
   },
   "file_extension": ".py",
   "mimetype": "text/x-python",
   "name": "python",
   "nbconvert_exporter": "python",
   "pygments_lexer": "ipython3",
   "version": "3.10.0"
  },
  "orig_nbformat": 4
 },
 "nbformat": 4,
 "nbformat_minor": 2
}
